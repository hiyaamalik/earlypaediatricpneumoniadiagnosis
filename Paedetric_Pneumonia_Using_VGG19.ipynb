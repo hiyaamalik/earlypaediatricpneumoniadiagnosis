{
  "cells": [
    {
      "cell_type": "code",
      "execution_count": null,
      "metadata": {
        "colab": {
          "base_uri": "https://localhost:8080/"
        },
        "id": "OBprXOITrNLU",
        "outputId": "6396e8b9-a872-4013-fe95-9e08c16ae33f"
      },
      "outputs": [
        {
          "output_type": "stream",
          "name": "stdout",
          "text": [
            "Mounted at /content/drive\n"
          ]
        }
      ],
      "source": [
        "# Mount Google Drive\n",
        "from google.colab import drive\n",
        "drive.mount('/content/drive')"
      ]
    },
    {
      "cell_type": "markdown",
      "metadata": {
        "id": "D5kZxcqOrC1m"
      },
      "source": [
        "## Transfer Learning using VGG-19 model"
      ]
    },
    {
      "cell_type": "code",
      "execution_count": 9,
      "metadata": {
        "id": "CeGIAfZlrC1t"
      },
      "outputs": [],
      "source": [
        "#loading different libraries\n",
        "#TensorFlow is an open-sourced end-to-end platform, a library for multiple machine learning tasks,\n",
        "#while Keras is a high-level neural network library that runs on top of TensorFlow.\n",
        "#Both provide high-level APIs used for easily building and training models\n",
        "from tensorflow.keras import optimizers\n",
        "from keras import losses\n",
        "from keras import metrics\n",
        "import keras\n",
        "from keras.models import Model\n",
        "from keras.layers import Dense\n",
        "from keras.preprocessing.image import ImageDataGenerator\n",
        "from keras.preprocessing import image"
      ]
    },
    {
      "cell_type": "code",
      "execution_count": 10,
      "metadata": {
        "colab": {
          "base_uri": "https://localhost:8080/"
        },
        "id": "s5eGmmFPrC1y",
        "outputId": "a30e7721-ecf9-4dec-b8d9-e3d54472b241"
      },
      "outputs": [
        {
          "output_type": "stream",
          "name": "stdout",
          "text": [
            "Found 4211 images belonging to 2 classes.\n",
            "Found 3452 images belonging to 2 classes.\n",
            "Found 624 images belonging to 2 classes.\n"
          ]
        }
      ],
      "source": [
        "# data loading, augmentation is optional\n",
        "#Generate batches of tensor image data with real-time data augmentation.\n",
        "\n",
        "##Training Data\n",
        "trdata = ImageDataGenerator()\n",
        "traindata = trdata.flow_from_directory(directory=r\"/content/drive/MyDrive/Data/train\",target_size=(224,224))\n",
        "##Validation Data\n",
        "valdata = ImageDataGenerator()\n",
        "validationdata = valdata.flow_from_directory(directory=r\"/content/drive/MyDrive/Data/val\", target_size=(224,224))\n",
        "##Test Data\n",
        "tsdata = ImageDataGenerator()\n",
        "testdata = tsdata.flow_from_directory(directory=r\"/content/drive/MyDrive/Data/test\", target_size=(224,224))"
      ]
    },
    {
      "cell_type": "code",
      "execution_count": 11,
      "metadata": {
        "colab": {
          "base_uri": "https://localhost:8080/"
        },
        "id": "_KbyxXFlrC10",
        "outputId": "b0d31f2c-bf48-4036-94f5-af9b2149d5a2"
      },
      "outputs": [
        {
          "output_type": "stream",
          "name": "stdout",
          "text": [
            "Model: \"vgg19\"\n",
            "_________________________________________________________________\n",
            " Layer (type)                Output Shape              Param #   \n",
            "=================================================================\n",
            " input_2 (InputLayer)        [(None, 224, 224, 3)]     0         \n",
            "                                                                 \n",
            " block1_conv1 (Conv2D)       (None, 224, 224, 64)      1792      \n",
            "                                                                 \n",
            " block1_conv2 (Conv2D)       (None, 224, 224, 64)      36928     \n",
            "                                                                 \n",
            " block1_pool (MaxPooling2D)  (None, 112, 112, 64)      0         \n",
            "                                                                 \n",
            " block2_conv1 (Conv2D)       (None, 112, 112, 128)     73856     \n",
            "                                                                 \n",
            " block2_conv2 (Conv2D)       (None, 112, 112, 128)     147584    \n",
            "                                                                 \n",
            " block2_pool (MaxPooling2D)  (None, 56, 56, 128)       0         \n",
            "                                                                 \n",
            " block3_conv1 (Conv2D)       (None, 56, 56, 256)       295168    \n",
            "                                                                 \n",
            " block3_conv2 (Conv2D)       (None, 56, 56, 256)       590080    \n",
            "                                                                 \n",
            " block3_conv3 (Conv2D)       (None, 56, 56, 256)       590080    \n",
            "                                                                 \n",
            " block3_conv4 (Conv2D)       (None, 56, 56, 256)       590080    \n",
            "                                                                 \n",
            " block3_pool (MaxPooling2D)  (None, 28, 28, 256)       0         \n",
            "                                                                 \n",
            " block4_conv1 (Conv2D)       (None, 28, 28, 512)       1180160   \n",
            "                                                                 \n",
            " block4_conv2 (Conv2D)       (None, 28, 28, 512)       2359808   \n",
            "                                                                 \n",
            " block4_conv3 (Conv2D)       (None, 28, 28, 512)       2359808   \n",
            "                                                                 \n",
            " block4_conv4 (Conv2D)       (None, 28, 28, 512)       2359808   \n",
            "                                                                 \n",
            " block4_pool (MaxPooling2D)  (None, 14, 14, 512)       0         \n",
            "                                                                 \n",
            " block5_conv1 (Conv2D)       (None, 14, 14, 512)       2359808   \n",
            "                                                                 \n",
            " block5_conv2 (Conv2D)       (None, 14, 14, 512)       2359808   \n",
            "                                                                 \n",
            " block5_conv3 (Conv2D)       (None, 14, 14, 512)       2359808   \n",
            "                                                                 \n",
            " block5_conv4 (Conv2D)       (None, 14, 14, 512)       2359808   \n",
            "                                                                 \n",
            " block5_pool (MaxPooling2D)  (None, 7, 7, 512)         0         \n",
            "                                                                 \n",
            " flatten (Flatten)           (None, 25088)             0         \n",
            "                                                                 \n",
            " fc1 (Dense)                 (None, 4096)              102764544 \n",
            "                                                                 \n",
            " fc2 (Dense)                 (None, 4096)              16781312  \n",
            "                                                                 \n",
            " predictions (Dense)         (None, 1000)              4097000   \n",
            "                                                                 \n",
            "=================================================================\n",
            "Total params: 143667240 (548.05 MB)\n",
            "Trainable params: 143667240 (548.05 MB)\n",
            "Non-trainable params: 0 (0.00 Byte)\n",
            "_________________________________________________________________\n",
            "Model: \"model_1\"\n",
            "_________________________________________________________________\n",
            " Layer (type)                Output Shape              Param #   \n",
            "=================================================================\n",
            " input_2 (InputLayer)        [(None, 224, 224, 3)]     0         \n",
            "                                                                 \n",
            " block1_conv1 (Conv2D)       (None, 224, 224, 64)      1792      \n",
            "                                                                 \n",
            " block1_conv2 (Conv2D)       (None, 224, 224, 64)      36928     \n",
            "                                                                 \n",
            " block1_pool (MaxPooling2D)  (None, 112, 112, 64)      0         \n",
            "                                                                 \n",
            " block2_conv1 (Conv2D)       (None, 112, 112, 128)     73856     \n",
            "                                                                 \n",
            " block2_conv2 (Conv2D)       (None, 112, 112, 128)     147584    \n",
            "                                                                 \n",
            " block2_pool (MaxPooling2D)  (None, 56, 56, 128)       0         \n",
            "                                                                 \n",
            " block3_conv1 (Conv2D)       (None, 56, 56, 256)       295168    \n",
            "                                                                 \n",
            " block3_conv2 (Conv2D)       (None, 56, 56, 256)       590080    \n",
            "                                                                 \n",
            " block3_conv3 (Conv2D)       (None, 56, 56, 256)       590080    \n",
            "                                                                 \n",
            " block3_conv4 (Conv2D)       (None, 56, 56, 256)       590080    \n",
            "                                                                 \n",
            " block3_pool (MaxPooling2D)  (None, 28, 28, 256)       0         \n",
            "                                                                 \n",
            " block4_conv1 (Conv2D)       (None, 28, 28, 512)       1180160   \n",
            "                                                                 \n",
            " block4_conv2 (Conv2D)       (None, 28, 28, 512)       2359808   \n",
            "                                                                 \n",
            " block4_conv3 (Conv2D)       (None, 28, 28, 512)       2359808   \n",
            "                                                                 \n",
            " block4_conv4 (Conv2D)       (None, 28, 28, 512)       2359808   \n",
            "                                                                 \n",
            " block4_pool (MaxPooling2D)  (None, 14, 14, 512)       0         \n",
            "                                                                 \n",
            " block5_conv1 (Conv2D)       (None, 14, 14, 512)       2359808   \n",
            "                                                                 \n",
            " block5_conv2 (Conv2D)       (None, 14, 14, 512)       2359808   \n",
            "                                                                 \n",
            " block5_conv3 (Conv2D)       (None, 14, 14, 512)       2359808   \n",
            "                                                                 \n",
            " block5_conv4 (Conv2D)       (None, 14, 14, 512)       2359808   \n",
            "                                                                 \n",
            " block5_pool (MaxPooling2D)  (None, 7, 7, 512)         0         \n",
            "                                                                 \n",
            " flatten (Flatten)           (None, 25088)             0         \n",
            "                                                                 \n",
            " fc1 (Dense)                 (None, 4096)              102764544 \n",
            "                                                                 \n",
            " fc2 (Dense)                 (None, 4096)              16781312  \n",
            "                                                                 \n",
            " dense_1 (Dense)             (None, 2)                 8194      \n",
            "                                                                 \n",
            "=================================================================\n",
            "Total params: 139578434 (532.45 MB)\n",
            "Trainable params: 124273666 (474.07 MB)\n",
            "Non-trainable params: 15304768 (58.38 MB)\n",
            "_________________________________________________________________\n"
          ]
        }
      ],
      "source": [
        "## Transfer Learning using VGG-19 model\n",
        "from keras.applications.vgg19 import VGG19\n",
        "\n",
        "#Load VGG19 model previously trained on Imagenet dataset. It is already trained on large number of classes and generalised, so go to consider to train new dataset.\n",
        "vggmodel = VGG19(weights='imagenet', include_top=True)\n",
        "\n",
        "#It predicts the summary of the model in a tabular format\n",
        "vggmodel.summary()\n",
        "\n",
        "##Freezing all layers of the model. VGG19 model has 19 layers\n",
        "for layers in (vggmodel.layers)[:19]:\n",
        "    #print(layers)\n",
        "    layers.trainable = False\n",
        "\n",
        "##changing number of nodes in the last dense layer as per the number of classes.\n",
        "X= vggmodel.layers[-2].output\n",
        "predictions = Dense(2, activation=\"softmax\")(X)\n",
        "\n",
        "##Final model is the combination of inputs and defined model architecture i.e. VGG19\n",
        "#model_final = Model(input = vggmodel.input, output = predictions) ### previouscommand\n",
        "model_final = Model(vggmodel.input, predictions) ### updated command\n",
        "\n",
        "#It predicts the summary of the model in a tabular format\n",
        "model_final.summary()"
      ]
    },
    {
      "cell_type": "code",
      "execution_count": 12,
      "metadata": {
        "id": "Nqndnrz-rC11"
      },
      "outputs": [],
      "source": [
        "\n",
        "#This cell is to define the hyperparameters to train the model.\n",
        "\n",
        "#optimizer and learning rate. Adam is the optimizer, Learning rate: 1e-3\n",
        "optimizer = optimizers.Adam(learning_rate=1e-3)\n",
        "\n",
        "##compilation of the model with given optimzer. Accuracy is metric on which we can see the performance\n",
        "model_final.compile(loss = 'binary_crossentropy', optimizer = optimizer, metrics = ['accuracy'])"
      ]
    },
    {
      "cell_type": "code",
      "execution_count": 13,
      "metadata": {
        "colab": {
          "base_uri": "https://localhost:8080/"
        },
        "id": "eI7WH2cGrC13",
        "outputId": "41db3d51-4325-4e93-cb8f-e7a2ea3a443f"
      },
      "outputs": [
        {
          "output_type": "stream",
          "name": "stdout",
          "text": [
            "Epoch 1/10\n",
            "132/132 [==============================] - 49s 335ms/step - loss: 1.5288 - accuracy: 0.8608 - val_loss: 0.1891 - val_accuracy: 0.9264\n",
            "Epoch 2/10\n",
            "132/132 [==============================] - 47s 359ms/step - loss: 0.1728 - accuracy: 0.9347 - val_loss: 0.1634 - val_accuracy: 0.9424\n",
            "Epoch 3/10\n",
            "132/132 [==============================] - 44s 331ms/step - loss: 0.5887 - accuracy: 0.9159 - val_loss: 0.1550 - val_accuracy: 0.9397\n",
            "Epoch 4/10\n",
            "132/132 [==============================] - 45s 341ms/step - loss: 0.1301 - accuracy: 0.9470 - val_loss: 0.1134 - val_accuracy: 0.9557\n",
            "Epoch 5/10\n",
            "132/132 [==============================] - 44s 331ms/step - loss: 0.1035 - accuracy: 0.9589 - val_loss: 0.1158 - val_accuracy: 0.9583\n",
            "Epoch 6/10\n",
            "132/132 [==============================] - 44s 334ms/step - loss: 0.0824 - accuracy: 0.9682 - val_loss: 0.1057 - val_accuracy: 0.9649\n",
            "Epoch 7/10\n",
            "132/132 [==============================] - 45s 339ms/step - loss: 0.0733 - accuracy: 0.9727 - val_loss: 0.0820 - val_accuracy: 0.9702\n",
            "Epoch 8/10\n",
            "132/132 [==============================] - 44s 336ms/step - loss: 0.0576 - accuracy: 0.9774 - val_loss: 0.0837 - val_accuracy: 0.9702\n",
            "Epoch 9/10\n",
            "132/132 [==============================] - 44s 333ms/step - loss: 0.0663 - accuracy: 0.9751 - val_loss: 0.0824 - val_accuracy: 0.9722\n",
            "Epoch 10/10\n",
            "132/132 [==============================] - 45s 337ms/step - loss: 0.0438 - accuracy: 0.9827 - val_loss: 0.1214 - val_accuracy: 0.9728\n"
          ]
        }
      ],
      "source": [
        "/#Model fitting. verbose is the choice that how you want to see the output of your Nural Network while it's training.\n",
        "#If you set verbose = 0, It will show nothing.\n",
        "#here you have to give the defined varaibles where data get stored i.e. traindata, validation data\n",
        "history = model_final.fit(\n",
        "    traindata,\n",
        "    epochs=10,\n",
        "    verbose=1,\n",
        "    validation_data=validationdata\n",
        ")"
      ]
    },
    {
      "cell_type": "code",
      "execution_count": 14,
      "metadata": {
        "colab": {
          "base_uri": "https://localhost:8080/",
          "height": 962
        },
        "id": "9K_6u-d6rC13",
        "outputId": "ae9db60f-2a08-46b4-c3c5-1209c7d8ca44"
      },
      "outputs": [
        {
          "output_type": "execute_result",
          "data": {
            "text/plain": [
              "<Figure size 640x480 with 0 Axes>"
            ]
          },
          "metadata": {},
          "execution_count": 14
        },
        {
          "output_type": "display_data",
          "data": {
            "text/plain": [
              "<Figure size 640x480 with 1 Axes>"
            ],
            "image/png": "[encoded data removed]"
          },
          "metadata": {}
        },
        {
          "output_type": "display_data",
          "data": {
            "text/plain": [
              "<Figure size 640x480 with 1 Axes>"
            ],
            "image/png": "[encoded data removed]"
          },
          "metadata": {}
        },
        {
          "output_type": "display_data",
          "data": {
            "text/plain": [
              "<Figure size 640x480 with 0 Axes>"
            ]
          },
          "metadata": {}
        }
      ],
      "source": [
        "#Matplotlib is a cross-platform, data visualization and graphical plotting library for Python and its numerical extension NumPy.\n",
        "#here it will plot accuracy and loss curve\n",
        "\n",
        "#loading libraries\n",
        "import matplotlib.image as mpimg\n",
        "import matplotlib.pyplot as plt\n",
        "\n",
        "#storing the string of array related to accuracy and loss (Training and Loss)\n",
        "acc = history.history['accuracy']\n",
        "val_acc = history.history['val_accuracy']\n",
        "loss = history.history['loss']\n",
        "val_loss = history.history['val_loss']\n",
        "\n",
        "#number of epochs == length of array\n",
        "epochs = range(len(acc))\n",
        "\n",
        "#define the title and other information for the plotted graph\n",
        "plt.plot(epochs, acc, 'r')\n",
        "plt.plot(epochs, val_acc, 'b')\n",
        "plt.title('Training and Validation Accuracy')\n",
        "plt.ylabel('accuracy')\n",
        "plt.xlabel('epoch')\n",
        "plt.legend(['train', 'val'], loc='upper left')\n",
        "plt.figure()\n",
        "\n",
        "plt.plot(epochs, loss, 'r')\n",
        "plt.plot(epochs, val_loss, 'b')\n",
        "plt.ylabel('loss')\n",
        "plt.xlabel('epoch')\n",
        "plt.legend(['train', 'val'], loc='upper left')\n",
        "plt.title('Training and Validaion Loss')\n",
        "plt.figure()"
      ]
    },
    {
      "cell_type": "code",
      "execution_count": null,
      "metadata": {
        "id": "LRSUXUnTvmPN"
      },
      "outputs": [],
      "source": [
        "!pip install"
      ]
    },
    {
      "cell_type": "code",
      "execution_count": 17,
      "metadata": {
        "colab": {
          "base_uri": "https://localhost:8080/"
        },
        "id": "HvGSe-aprC14",
        "outputId": "1f36fca8-e810-4502-f0ae-6b8fc5d8e79e"
      },
      "outputs": [
        {
          "output_type": "stream",
          "name": "stdout",
          "text": [
            "==============TEST RESULTS============\n",
            "20/20 [==============================] - 3s 162ms/step\n",
            "Confusion Matrix\n",
            "[[ 24 210]\n",
            " [ 42 348]]\n",
            "Classification Report\n",
            "              precision    recall  f1-score   support\n",
            "\n",
            "      normal       0.36      0.10      0.16       234\n",
            "   pneumonia       0.62      0.89      0.73       390\n",
            "\n",
            "    accuracy                           0.60       624\n",
            "   macro avg       0.49      0.50      0.45       624\n",
            "weighted avg       0.53      0.60      0.52       624\n",
            "\n"
          ]
        }
      ],
      "source": [
        "##assessment of performance on the test set\n",
        "\n",
        "##loading libraries\n",
        "import numpy as np\n",
        "from sklearn.metrics import confusion_matrix, classification_report\n",
        "from sklearn.metrics import confusion_matrix\n",
        "print(\"==============TEST RESULTS============\")\n",
        "from sklearn.metrics import confusion_matrix  ##for printing the confusion matrix\n",
        "y_pred = model_final.predict(testdata)      ##predicting the test data set using trained model i.e. model_final\n",
        "y_pred = np.argmax(y_pred, axis=1)\n",
        "print('Confusion Matrix')\n",
        "print(confusion_matrix(testdata.classes, y_pred))\n",
        "print('Classification Report')\n",
        "target_names = ['normal', 'pneumonia']      ##defining the classes\n",
        "print(classification_report(testdata.classes, y_pred, target_names=target_names))      ##printing the classification report"
      ]
    },
    {
      "cell_type": "code",
      "execution_count": 18,
      "metadata": {
        "id": "4T-s9ebfSCPy",
        "colab": {
          "base_uri": "https://localhost:8080/"
        },
        "outputId": "4389188a-c21e-4aab-b3b6-175d9fea9d59"
      },
      "outputs": [
        {
          "output_type": "stream",
          "name": "stdout",
          "text": [
            "20/20 [==============================] - 3s 151ms/step - loss: 1.9443 - accuracy: 0.7147\n",
            "Test Accuracy: 0.7147436141967773\n"
          ]
        }
      ],
      "source": [
        "# Evaluate the model on the test dataset\n",
        "test_loss, test_accuracy = model_final.evaluate(testdata)\n",
        "\n",
        "print(\"Test Accuracy:\", test_accuracy)\n"
      ]
    }
  ],
  "metadata": {
    "accelerator": "GPU",
    "colab": {
      "provenance": []
    },
    "gpuClass": "standard",
    "kernelspec": {
      "display_name": "Python 3 (ipykernel)",
      "language": "python",
      "name": "python3"
    },
    "language_info": {
      "codemirror_mode": {
        "name": "ipython",
        "version": 3
      },
      "file_extension": ".py",
      "mimetype": "text/x-python",
      "name": "python",
      "nbconvert_exporter": "python",
      "pygments_lexer": "ipython3",
      "version": "3.9.7"
    }
  },
  "nbformat": 4,
  "nbformat_minor": 0
}